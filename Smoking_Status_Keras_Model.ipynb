{
  "nbformat": 4,
  "nbformat_minor": 0,
  "metadata": {
    "colab": {
      "provenance": [],
      "collapsed_sections": [
        "l5CMEwjvy5PJ",
        "VObAT7BnG4iT",
        "fWsZyAA32vEy"
      ]
    },
    "kernelspec": {
      "name": "python3",
      "display_name": "Python 3"
    },
    "language_info": {
      "name": "python"
    }
  },
  "cells": [
    {
      "cell_type": "markdown",
      "source": [
        "# **Project 2: Smoking Status Identification from Clinical Notes**"
      ],
      "metadata": {
        "id": "3FLIfEoHrGX6"
      }
    },
    {
      "cell_type": "markdown",
      "source": [
        "# Step 1: Import Data\n",
        "\n",
        "---\n",
        "\n"
      ],
      "metadata": {
        "id": "l5CMEwjvy5PJ"
      }
    },
    {
      "cell_type": "code",
      "source": [
        "from google.colab import drive\n",
        "drive.mount('/content/drive')"
      ],
      "metadata": {
        "id": "v01MxIc1UpRC",
        "colab": {
          "base_uri": "https://localhost:8080/"
        },
        "outputId": "3939f9ec-17c2-4030-bdac-fe7a671dbd71"
      },
      "execution_count": 135,
      "outputs": [
        {
          "output_type": "stream",
          "name": "stdout",
          "text": [
            "Drive already mounted at /content/drive; to attempt to forcibly remount, call drive.mount(\"/content/drive\", force_remount=True).\n"
          ]
        }
      ]
    },
    {
      "cell_type": "code",
      "source": [
        "from google.colab import drive\n",
        "drive.mount('/content/drive')\n",
        "import pandas as pd\n",
        "import numpy as np"
      ],
      "metadata": {
        "id": "lgHfjhe6y4zd",
        "colab": {
          "base_uri": "https://localhost:8080/"
        },
        "outputId": "91d96c7e-2c49-4f59-c11f-be3a433b9b49"
      },
      "execution_count": 136,
      "outputs": [
        {
          "output_type": "stream",
          "name": "stdout",
          "text": [
            "Drive already mounted at /content/drive; to attempt to forcibly remount, call drive.mount(\"/content/drive\", force_remount=True).\n"
          ]
        }
      ]
    },
    {
      "cell_type": "markdown",
      "source": [
        "### Import Training Data"
      ],
      "metadata": {
        "id": "B67m-Z7K86fk"
      }
    },
    {
      "cell_type": "code",
      "source": [
        "#Joan\n",
        "smoking_status_train_file = \"/content/drive/MyDrive/MassiveHealthFund/project/smoking_status_train.xml\""
      ],
      "metadata": {
        "id": "gEUfyAGGuK-0"
      },
      "execution_count": 137,
      "outputs": []
    },
    {
      "cell_type": "code",
      "execution_count": 138,
      "metadata": {
        "id": "6XVJaacJq8K0"
      },
      "outputs": [],
      "source": [
        "#Yuktha\n",
        "smoking_status_train_file = \"/content/drive/MyDrive/HIDS 6001 Project/Dataset/smoking_status_train.xml\""
      ]
    },
    {
      "cell_type": "code",
      "source": [
        "#AJ\n",
        "smoking_status_train_file = \"/content/drive/MyDrive/Smoking_project/smoking_status_train.xml\""
      ],
      "metadata": {
        "id": "hDoklOSKvQqR"
      },
      "execution_count": 139,
      "outputs": []
    },
    {
      "cell_type": "code",
      "source": [
        "import xml.etree.ElementTree as ET\n",
        "import pandas as pd\n",
        "\n",
        "# Parse the XML file\n",
        "tree = ET.parse(smoking_status_train_file)\n",
        "root = tree.getroot()\n",
        "\n",
        "# Define lists to store data\n",
        "record_list = []\n",
        "text_list = []\n",
        "\n",
        "# Extract data from XML\n",
        "for record in root.findall('RECORD'):\n",
        "    record_id = record.get('ID')\n",
        "    smoking_status = record.find('SMOKING').get('STATUS')\n",
        "\n",
        "    # Extract text data from the <TEXT> element\n",
        "    text_data = record.find('TEXT').text.strip()\n",
        "\n",
        "    # Append data to the respective lists\n",
        "    record_list.append({'Record_ID': record_id, 'Smoking_Status': smoking_status})\n",
        "    text_list.append(text_data)\n",
        "\n",
        "# Create DataFrames\n",
        "record_df = pd.DataFrame(record_list)\n",
        "text_df = pd.DataFrame({'Text': text_list})\n",
        "\n",
        "# Concatenate DataFrames\n",
        "smoking_status_train_df = pd.concat([record_df, text_df], axis=1)\n",
        "\n",
        "# Display the resulting DataFrame\n",
        "print(smoking_status_train_df)\n"
      ],
      "metadata": {
        "id": "yykK-JDl8EcQ",
        "colab": {
          "base_uri": "https://localhost:8080/"
        },
        "outputId": "83a1004f-8d5b-4ecd-cba7-ad2ba6973cce"
      },
      "execution_count": 140,
      "outputs": [
        {
          "output_type": "stream",
          "name": "stdout",
          "text": [
            "    Record_ID  Smoking_Status  \\\n",
            "0         641  CURRENT SMOKER   \n",
            "1         643  CURRENT SMOKER   \n",
            "2         681  CURRENT SMOKER   \n",
            "3         704  CURRENT SMOKER   \n",
            "4         757  CURRENT SMOKER   \n",
            "..        ...             ...   \n",
            "393       401         UNKNOWN   \n",
            "394       403         UNKNOWN   \n",
            "395       416         UNKNOWN   \n",
            "396       417         UNKNOWN   \n",
            "397       419         UNKNOWN   \n",
            "\n",
            "                                                  Text  \n",
            "0    977146916\\nHLGMC\\n2878891\\n022690\\n01/27/1997 ...  \n",
            "1    026738007\\nCMC\\n15319689\\n3/25/1998 12:00:00 A...  \n",
            "2    071962960\\nBH\\n4236518\\n417454\\n12/10/2001 12:...  \n",
            "3    418520250\\nNVH\\n61562872\\n3/11/1995 12:00:00 A...  \n",
            "4    301443520\\nCTMC\\n49020928\\n448922\\n1/11/1990 1...  \n",
            "..                                                 ...  \n",
            "393  917989835 RWH\\n5427551\\n405831\\n9660879\\n01/09...  \n",
            "394  817406016 RWH\\n3154334\\n554691\\n3547577\\n7/6/2...  \n",
            "395  517502848 ELMVH\\n18587541\\n6634152\\n12/12/2004...  \n",
            "396  895872725 ELMVH\\n99080881\\n979718\\n5/25/2002 1...  \n",
            "397  305757070 ELMVH\\n74973293\\n2973118\\n11/27/2003...  \n",
            "\n",
            "[398 rows x 3 columns]\n"
          ]
        }
      ]
    },
    {
      "cell_type": "code",
      "source": [
        "smoking_status_train_df.head()\n",
        "smoking_status_train_df.shape"
      ],
      "metadata": {
        "id": "hTJ3RezO3AL5",
        "colab": {
          "base_uri": "https://localhost:8080/"
        },
        "outputId": "5ae084d2-5843-4ecc-bb58-1a52375b563c"
      },
      "execution_count": 141,
      "outputs": [
        {
          "output_type": "execute_result",
          "data": {
            "text/plain": [
              "(398, 3)"
            ]
          },
          "metadata": {},
          "execution_count": 141
        }
      ]
    },
    {
      "cell_type": "markdown",
      "source": [
        "### Import Testing Data"
      ],
      "metadata": {
        "id": "JRtd5CqS9P_u"
      }
    },
    {
      "cell_type": "code",
      "source": [
        "#Joan\n",
        "smoking_status_test_file = \"/content/drive/MyDrive/MassiveHealthFund/project/smoking_status_test.xml\""
      ],
      "metadata": {
        "id": "V-aMAUgQvnxQ"
      },
      "execution_count": 142,
      "outputs": []
    },
    {
      "cell_type": "code",
      "source": [
        "#Yuktha\n",
        "smoking_status_test_file = \"/content/drive/MyDrive/HIDS 6001 Project/Dataset/smoking_status_test.xml\""
      ],
      "metadata": {
        "id": "0atVIz_sP0-u"
      },
      "execution_count": 143,
      "outputs": []
    },
    {
      "cell_type": "code",
      "source": [
        "#AJ\n",
        "smoking_status_test_file = \"/content/drive/MyDrive/Smoking_project/smoking_status_test.xml\""
      ],
      "metadata": {
        "id": "wJYh6pBnVMlD"
      },
      "execution_count": 144,
      "outputs": []
    },
    {
      "cell_type": "code",
      "source": [
        "import xml.etree.ElementTree as ET\n",
        "import pandas as pd\n",
        "\n",
        "# Parse the XML file\n",
        "tree = ET.parse(smoking_status_test_file)\n",
        "root = tree.getroot()\n",
        "\n",
        "# Define lists to store data\n",
        "record_list = []\n",
        "text_list = []\n",
        "\n",
        "# Extract data from XML\n",
        "for record in root.findall('RECORD'):\n",
        "    record_id = record.get('ID')\n",
        "\n",
        "\n",
        "    # Extract text data from the <TEXT> element\n",
        "    text_data = record.find('TEXT').text.strip()\n",
        "\n",
        "    # Append data to the respective lists\n",
        "    record_list.append({'Record_ID': record_id})\n",
        "    text_list.append(text_data)\n",
        "\n",
        "# Create DataFrames\n",
        "record_df = pd.DataFrame(record_list)\n",
        "text_df = pd.DataFrame({'Text': text_list})\n",
        "\n",
        "# Concatenate DataFrames\n",
        "smoking_status_test_df = pd.concat([record_df, text_df], axis=1)\n",
        "\n",
        "# Display the resulting DataFrame\n",
        "print(smoking_status_test_df)\n"
      ],
      "metadata": {
        "id": "oKSYXUmV-d7H",
        "colab": {
          "base_uri": "https://localhost:8080/"
        },
        "outputId": "21165a47-d478-45ab-92b3-e811aad69239"
      },
      "execution_count": 145,
      "outputs": [
        {
          "output_type": "stream",
          "name": "stdout",
          "text": [
            "    Record_ID                                               Text\n",
            "0         660  156406283\\nHLGMC\\n7213645\\n64723/51cy\\n5/28/19...\n",
            "1         845  487197293\\nPUOMC\\n2466262\\n408602\\n1976045\\n4/...\n",
            "2         515  176318078\\nFIH\\n4189699\\n28872/d70h\\n094756\\n1...\n",
            "3         562  245096078\\nFIH\\n9174858\\n12/February\\n997359\\n...\n",
            "4         633  237073320\\nFIH\\n9746390\\n797120\\n251605\\n01/26...\n",
            "..        ...                                                ...\n",
            "99        487  178557034 RWH\\n6914544\\n174533\\n944266\\n12/16/...\n",
            "100       488  522011500 ELMVH\\n98638774\\n324573\\n7/28/2000 1...\n",
            "101       492  020916369 ELMVH\\n07813686\\n4888155\\n06/21/2004...\n",
            "102       493  888428725 RWH\\n0712675\\n695770\\n6153969\\n11/4/...\n",
            "103       500  844970557 RWH\\n4822461\\n736093\\n8962225\\n11/16...\n",
            "\n",
            "[104 rows x 2 columns]\n"
          ]
        }
      ]
    },
    {
      "cell_type": "code",
      "source": [
        "smoking_status_test_df.head()"
      ],
      "metadata": {
        "id": "AVhcRW5F9gyz",
        "colab": {
          "base_uri": "https://localhost:8080/",
          "height": 0
        },
        "outputId": "86fc3b6f-3c66-4f49-fe2b-bd70e1d57e69"
      },
      "execution_count": 146,
      "outputs": [
        {
          "output_type": "execute_result",
          "data": {
            "text/plain": [
              "  Record_ID                                               Text\n",
              "0       660  156406283\\nHLGMC\\n7213645\\n64723/51cy\\n5/28/19...\n",
              "1       845  487197293\\nPUOMC\\n2466262\\n408602\\n1976045\\n4/...\n",
              "2       515  176318078\\nFIH\\n4189699\\n28872/d70h\\n094756\\n1...\n",
              "3       562  245096078\\nFIH\\n9174858\\n12/February\\n997359\\n...\n",
              "4       633  237073320\\nFIH\\n9746390\\n797120\\n251605\\n01/26..."
            ],
            "text/html": [
              "\n",
              "  <div id=\"df-1453e98d-aa24-4a6d-8a3a-fbefeefd9ca4\" class=\"colab-df-container\">\n",
              "    <div>\n",
              "<style scoped>\n",
              "    .dataframe tbody tr th:only-of-type {\n",
              "        vertical-align: middle;\n",
              "    }\n",
              "\n",
              "    .dataframe tbody tr th {\n",
              "        vertical-align: top;\n",
              "    }\n",
              "\n",
              "    .dataframe thead th {\n",
              "        text-align: right;\n",
              "    }\n",
              "</style>\n",
              "<table border=\"1\" class=\"dataframe\">\n",
              "  <thead>\n",
              "    <tr style=\"text-align: right;\">\n",
              "      <th></th>\n",
              "      <th>Record_ID</th>\n",
              "      <th>Text</th>\n",
              "    </tr>\n",
              "  </thead>\n",
              "  <tbody>\n",
              "    <tr>\n",
              "      <th>0</th>\n",
              "      <td>660</td>\n",
              "      <td>156406283\\nHLGMC\\n7213645\\n64723/51cy\\n5/28/19...</td>\n",
              "    </tr>\n",
              "    <tr>\n",
              "      <th>1</th>\n",
              "      <td>845</td>\n",
              "      <td>487197293\\nPUOMC\\n2466262\\n408602\\n1976045\\n4/...</td>\n",
              "    </tr>\n",
              "    <tr>\n",
              "      <th>2</th>\n",
              "      <td>515</td>\n",
              "      <td>176318078\\nFIH\\n4189699\\n28872/d70h\\n094756\\n1...</td>\n",
              "    </tr>\n",
              "    <tr>\n",
              "      <th>3</th>\n",
              "      <td>562</td>\n",
              "      <td>245096078\\nFIH\\n9174858\\n12/February\\n997359\\n...</td>\n",
              "    </tr>\n",
              "    <tr>\n",
              "      <th>4</th>\n",
              "      <td>633</td>\n",
              "      <td>237073320\\nFIH\\n9746390\\n797120\\n251605\\n01/26...</td>\n",
              "    </tr>\n",
              "  </tbody>\n",
              "</table>\n",
              "</div>\n",
              "    <div class=\"colab-df-buttons\">\n",
              "\n",
              "  <div class=\"colab-df-container\">\n",
              "    <button class=\"colab-df-convert\" onclick=\"convertToInteractive('df-1453e98d-aa24-4a6d-8a3a-fbefeefd9ca4')\"\n",
              "            title=\"Convert this dataframe to an interactive table.\"\n",
              "            style=\"display:none;\">\n",
              "\n",
              "  <svg xmlns=\"http://www.w3.org/2000/svg\" height=\"24px\" viewBox=\"0 -960 960 960\">\n",
              "    <path d=\"M120-120v-720h720v720H120Zm60-500h600v-160H180v160Zm220 220h160v-160H400v160Zm0 220h160v-160H400v160ZM180-400h160v-160H180v160Zm440 0h160v-160H620v160ZM180-180h160v-160H180v160Zm440 0h160v-160H620v160Z\"/>\n",
              "  </svg>\n",
              "    </button>\n",
              "\n",
              "  <style>\n",
              "    .colab-df-container {\n",
              "      display:flex;\n",
              "      gap: 12px;\n",
              "    }\n",
              "\n",
              "    .colab-df-convert {\n",
              "      background-color: #E8F0FE;\n",
              "      border: none;\n",
              "      border-radius: 50%;\n",
              "      cursor: pointer;\n",
              "      display: none;\n",
              "      fill: #1967D2;\n",
              "      height: 32px;\n",
              "      padding: 0 0 0 0;\n",
              "      width: 32px;\n",
              "    }\n",
              "\n",
              "    .colab-df-convert:hover {\n",
              "      background-color: #E2EBFA;\n",
              "      box-shadow: 0px 1px 2px rgba(60, 64, 67, 0.3), 0px 1px 3px 1px rgba(60, 64, 67, 0.15);\n",
              "      fill: #174EA6;\n",
              "    }\n",
              "\n",
              "    .colab-df-buttons div {\n",
              "      margin-bottom: 4px;\n",
              "    }\n",
              "\n",
              "    [theme=dark] .colab-df-convert {\n",
              "      background-color: #3B4455;\n",
              "      fill: #D2E3FC;\n",
              "    }\n",
              "\n",
              "    [theme=dark] .colab-df-convert:hover {\n",
              "      background-color: #434B5C;\n",
              "      box-shadow: 0px 1px 3px 1px rgba(0, 0, 0, 0.15);\n",
              "      filter: drop-shadow(0px 1px 2px rgba(0, 0, 0, 0.3));\n",
              "      fill: #FFFFFF;\n",
              "    }\n",
              "  </style>\n",
              "\n",
              "    <script>\n",
              "      const buttonEl =\n",
              "        document.querySelector('#df-1453e98d-aa24-4a6d-8a3a-fbefeefd9ca4 button.colab-df-convert');\n",
              "      buttonEl.style.display =\n",
              "        google.colab.kernel.accessAllowed ? 'block' : 'none';\n",
              "\n",
              "      async function convertToInteractive(key) {\n",
              "        const element = document.querySelector('#df-1453e98d-aa24-4a6d-8a3a-fbefeefd9ca4');\n",
              "        const dataTable =\n",
              "          await google.colab.kernel.invokeFunction('convertToInteractive',\n",
              "                                                    [key], {});\n",
              "        if (!dataTable) return;\n",
              "\n",
              "        const docLinkHtml = 'Like what you see? Visit the ' +\n",
              "          '<a target=\"_blank\" href=https://colab.research.google.com/notebooks/data_table.ipynb>data table notebook</a>'\n",
              "          + ' to learn more about interactive tables.';\n",
              "        element.innerHTML = '';\n",
              "        dataTable['output_type'] = 'display_data';\n",
              "        await google.colab.output.renderOutput(dataTable, element);\n",
              "        const docLink = document.createElement('div');\n",
              "        docLink.innerHTML = docLinkHtml;\n",
              "        element.appendChild(docLink);\n",
              "      }\n",
              "    </script>\n",
              "  </div>\n",
              "\n",
              "\n",
              "<div id=\"df-01b5ebe0-e50d-4eee-b690-5c2e75fe1143\">\n",
              "  <button class=\"colab-df-quickchart\" onclick=\"quickchart('df-01b5ebe0-e50d-4eee-b690-5c2e75fe1143')\"\n",
              "            title=\"Suggest charts\"\n",
              "            style=\"display:none;\">\n",
              "\n",
              "<svg xmlns=\"http://www.w3.org/2000/svg\" height=\"24px\"viewBox=\"0 0 24 24\"\n",
              "     width=\"24px\">\n",
              "    <g>\n",
              "        <path d=\"M19 3H5c-1.1 0-2 .9-2 2v14c0 1.1.9 2 2 2h14c1.1 0 2-.9 2-2V5c0-1.1-.9-2-2-2zM9 17H7v-7h2v7zm4 0h-2V7h2v10zm4 0h-2v-4h2v4z\"/>\n",
              "    </g>\n",
              "</svg>\n",
              "  </button>\n",
              "\n",
              "<style>\n",
              "  .colab-df-quickchart {\n",
              "      --bg-color: #E8F0FE;\n",
              "      --fill-color: #1967D2;\n",
              "      --hover-bg-color: #E2EBFA;\n",
              "      --hover-fill-color: #174EA6;\n",
              "      --disabled-fill-color: #AAA;\n",
              "      --disabled-bg-color: #DDD;\n",
              "  }\n",
              "\n",
              "  [theme=dark] .colab-df-quickchart {\n",
              "      --bg-color: #3B4455;\n",
              "      --fill-color: #D2E3FC;\n",
              "      --hover-bg-color: #434B5C;\n",
              "      --hover-fill-color: #FFFFFF;\n",
              "      --disabled-bg-color: #3B4455;\n",
              "      --disabled-fill-color: #666;\n",
              "  }\n",
              "\n",
              "  .colab-df-quickchart {\n",
              "    background-color: var(--bg-color);\n",
              "    border: none;\n",
              "    border-radius: 50%;\n",
              "    cursor: pointer;\n",
              "    display: none;\n",
              "    fill: var(--fill-color);\n",
              "    height: 32px;\n",
              "    padding: 0;\n",
              "    width: 32px;\n",
              "  }\n",
              "\n",
              "  .colab-df-quickchart:hover {\n",
              "    background-color: var(--hover-bg-color);\n",
              "    box-shadow: 0 1px 2px rgba(60, 64, 67, 0.3), 0 1px 3px 1px rgba(60, 64, 67, 0.15);\n",
              "    fill: var(--button-hover-fill-color);\n",
              "  }\n",
              "\n",
              "  .colab-df-quickchart-complete:disabled,\n",
              "  .colab-df-quickchart-complete:disabled:hover {\n",
              "    background-color: var(--disabled-bg-color);\n",
              "    fill: var(--disabled-fill-color);\n",
              "    box-shadow: none;\n",
              "  }\n",
              "\n",
              "  .colab-df-spinner {\n",
              "    border: 2px solid var(--fill-color);\n",
              "    border-color: transparent;\n",
              "    border-bottom-color: var(--fill-color);\n",
              "    animation:\n",
              "      spin 1s steps(1) infinite;\n",
              "  }\n",
              "\n",
              "  @keyframes spin {\n",
              "    0% {\n",
              "      border-color: transparent;\n",
              "      border-bottom-color: var(--fill-color);\n",
              "      border-left-color: var(--fill-color);\n",
              "    }\n",
              "    20% {\n",
              "      border-color: transparent;\n",
              "      border-left-color: var(--fill-color);\n",
              "      border-top-color: var(--fill-color);\n",
              "    }\n",
              "    30% {\n",
              "      border-color: transparent;\n",
              "      border-left-color: var(--fill-color);\n",
              "      border-top-color: var(--fill-color);\n",
              "      border-right-color: var(--fill-color);\n",
              "    }\n",
              "    40% {\n",
              "      border-color: transparent;\n",
              "      border-right-color: var(--fill-color);\n",
              "      border-top-color: var(--fill-color);\n",
              "    }\n",
              "    60% {\n",
              "      border-color: transparent;\n",
              "      border-right-color: var(--fill-color);\n",
              "    }\n",
              "    80% {\n",
              "      border-color: transparent;\n",
              "      border-right-color: var(--fill-color);\n",
              "      border-bottom-color: var(--fill-color);\n",
              "    }\n",
              "    90% {\n",
              "      border-color: transparent;\n",
              "      border-bottom-color: var(--fill-color);\n",
              "    }\n",
              "  }\n",
              "</style>\n",
              "\n",
              "  <script>\n",
              "    async function quickchart(key) {\n",
              "      const quickchartButtonEl =\n",
              "        document.querySelector('#' + key + ' button');\n",
              "      quickchartButtonEl.disabled = true;  // To prevent multiple clicks.\n",
              "      quickchartButtonEl.classList.add('colab-df-spinner');\n",
              "      try {\n",
              "        const charts = await google.colab.kernel.invokeFunction(\n",
              "            'suggestCharts', [key], {});\n",
              "      } catch (error) {\n",
              "        console.error('Error during call to suggestCharts:', error);\n",
              "      }\n",
              "      quickchartButtonEl.classList.remove('colab-df-spinner');\n",
              "      quickchartButtonEl.classList.add('colab-df-quickchart-complete');\n",
              "    }\n",
              "    (() => {\n",
              "      let quickchartButtonEl =\n",
              "        document.querySelector('#df-01b5ebe0-e50d-4eee-b690-5c2e75fe1143 button');\n",
              "      quickchartButtonEl.style.display =\n",
              "        google.colab.kernel.accessAllowed ? 'block' : 'none';\n",
              "    })();\n",
              "  </script>\n",
              "</div>\n",
              "    </div>\n",
              "  </div>\n"
            ]
          },
          "metadata": {},
          "execution_count": 146
        }
      ]
    },
    {
      "cell_type": "markdown",
      "source": [
        "### Importing Testing Data with Labels"
      ],
      "metadata": {
        "id": "a4hB0Wjq6QJ9"
      }
    },
    {
      "cell_type": "code",
      "source": [
        "#Joan\n",
        "smoking_status_test_with_labels_file = \"/content/drive/MyDrive/MassiveHealthFund/project/smoking_status_test_with_labels.xml\""
      ],
      "metadata": {
        "id": "P3vCMxe_6MEC"
      },
      "execution_count": 147,
      "outputs": []
    },
    {
      "cell_type": "code",
      "source": [
        "#AJ\n",
        "smoking_status_test_with_labels_file = \"/content/drive/MyDrive/Smoking_project/smoking_status_test_with_labels.xml\""
      ],
      "metadata": {
        "id": "jmY4mMBmsxdD"
      },
      "execution_count": 148,
      "outputs": []
    },
    {
      "cell_type": "code",
      "source": [
        "#Yuktha"
      ],
      "metadata": {
        "id": "kWJYEdmysyPm"
      },
      "execution_count": 149,
      "outputs": []
    },
    {
      "cell_type": "code",
      "source": [
        "import xml.etree.ElementTree as ET\n",
        "import pandas as pd\n",
        "\n",
        "# Parse the XML file\n",
        "tree = ET.parse(smoking_status_test_with_labels_file)\n",
        "root = tree.getroot()\n",
        "\n",
        "# Define lists to store data\n",
        "record_list = []\n",
        "text_list = []\n",
        "\n",
        "# Extract data from XML\n",
        "for record in root.findall('RECORD'):\n",
        "    record_id = record.get('ID')\n",
        "    smoking_status = record.find('SMOKING').get('STATUS')\n",
        "\n",
        "    # Extract text data from the <TEXT> element\n",
        "    text_data = record.find('TEXT').text.strip()\n",
        "\n",
        "    # Append data to the respective lists\n",
        "    record_list.append({'Record_ID': record_id, 'Smoking_Status': smoking_status})\n",
        "    text_list.append(text_data)\n",
        "\n",
        "# Create DataFrames\n",
        "record_df = pd.DataFrame(record_list)\n",
        "text_df = pd.DataFrame({'Text': text_list})\n",
        "\n",
        "# Concatenate DataFrames\n",
        "smoking_status_test_labels_df = pd.concat([record_df, text_df], axis=1)\n",
        "\n",
        "# Display the resulting DataFrame\n",
        "print(smoking_status_test_labels_df)\n"
      ],
      "metadata": {
        "colab": {
          "base_uri": "https://localhost:8080/"
        },
        "id": "FSz6paJe63VJ",
        "outputId": "791807fe-83b1-4d43-f5d4-9f5c37fe7459"
      },
      "execution_count": 150,
      "outputs": [
        {
          "output_type": "stream",
          "name": "stdout",
          "text": [
            "    Record_ID  Smoking_Status  \\\n",
            "0         660     PAST SMOKER   \n",
            "1         845  CURRENT SMOKER   \n",
            "2         515  CURRENT SMOKER   \n",
            "3         562  CURRENT SMOKER   \n",
            "4         633  CURRENT SMOKER   \n",
            "..        ...             ...   \n",
            "99        487         UNKNOWN   \n",
            "100       488         UNKNOWN   \n",
            "101       492         UNKNOWN   \n",
            "102       493         UNKNOWN   \n",
            "103       500         UNKNOWN   \n",
            "\n",
            "                                                  Text  \n",
            "0    156406283\\nHLGMC\\n7213645\\n64723/51cy\\n5/28/19...  \n",
            "1    487197293\\nPUOMC\\n2466262\\n408602\\n1976045\\n4/...  \n",
            "2    176318078\\nFIH\\n4189699\\n28872/d70h\\n094756\\n1...  \n",
            "3    245096078\\nFIH\\n9174858\\n12/February\\n997359\\n...  \n",
            "4    237073320\\nFIH\\n9746390\\n797120\\n251605\\n01/26...  \n",
            "..                                                 ...  \n",
            "99   178557034 RWH\\n6914544\\n174533\\n944266\\n12/16/...  \n",
            "100  522011500 ELMVH\\n98638774\\n324573\\n7/28/2000 1...  \n",
            "101  020916369 ELMVH\\n07813686\\n4888155\\n06/21/2004...  \n",
            "102  888428725 RWH\\n0712675\\n695770\\n6153969\\n11/4/...  \n",
            "103  844970557 RWH\\n4822461\\n736093\\n8962225\\n11/16...  \n",
            "\n",
            "[104 rows x 3 columns]\n"
          ]
        }
      ]
    },
    {
      "cell_type": "markdown",
      "source": [
        "# Step 2: Create Reduced Text Column"
      ],
      "metadata": {
        "id": "7yqAZXA5VEu-"
      }
    },
    {
      "cell_type": "markdown",
      "source": [
        "### 1. Packages"
      ],
      "metadata": {
        "id": "XX4CNuniA7TB"
      }
    },
    {
      "cell_type": "code",
      "source": [
        "import nltk\n",
        "nltk.download('punkt')\n",
        "from nltk.tokenize import word_tokenize\n",
        "from nltk.tokenize import sent_tokenize\n",
        "import re"
      ],
      "metadata": {
        "colab": {
          "base_uri": "https://localhost:8080/"
        },
        "id": "LAyTfzlWWIWV",
        "outputId": "1ca49b77-06b5-4ba2-f56a-093a127a5da8"
      },
      "execution_count": 151,
      "outputs": [
        {
          "output_type": "stream",
          "name": "stderr",
          "text": [
            "[nltk_data] Downloading package punkt to /root/nltk_data...\n",
            "[nltk_data]   Package punkt is already up-to-date!\n"
          ]
        }
      ]
    },
    {
      "cell_type": "markdown",
      "source": [
        "### 2. Function for reducing"
      ],
      "metadata": {
        "id": "_QZUAIE5A5Ym"
      }
    },
    {
      "cell_type": "markdown",
      "source": [
        "Identifying sentences containing keywords associated with smoking from a given text:\n",
        "\n",
        " **1) Regular Expression (smoking_patt):**\n",
        "\n",
        "Defines a regular expression pattern (smoking_patt) that matches words related to smoking such as \"smoke,\" \"cigarette,\" \"cigars,\" \"pipes,\" \"tobacco,\" and \"nicotine.\"\n",
        "\n",
        " **2) Function get_reduced_text(text):**\n",
        "\n",
        "Takes the text as an input and check wether it's empty or not. Tokenizes the line into sentences using sent_tokenize from NLTK. Searches for sentences that match the smoking-related pattern (smoking_patt) using re.search.\n",
        "\n",
        "If a sentence contains a match, it adds that sentence to the sents list.\n",
        "If no sentences match the pattern, it returns the string \"no relevant info.\"\n",
        "If there are matching sentences, it returns these sentences joined by newline characters.\n"
      ],
      "metadata": {
        "id": "SuywUKh8V-hJ"
      }
    },
    {
      "cell_type": "code",
      "source": [
        "smoking_patt = r'\\b(smok[a-z]+|ciggaretes?|cigars?|pipes?|packs?|tobaccos?|nicotine)\\b'\n",
        "def get_reduced_text(text):\n",
        "  sents = []\n",
        "  if not text or text == \"\":\n",
        "    return None\n",
        "  lines = text.splitlines()\n",
        "  for line in lines:\n",
        "    line = line.strip()\n",
        "    line_sents = sent_tokenize(line)\n",
        "    for line_sent in line_sents:\n",
        "      if re.search(smoking_patt, line_sent, re.I|re.M): sents.append(line_sent)\n",
        "  if not sents: return \"no relevnt info\"\n",
        "  return \"\\n\".join(sents)"
      ],
      "metadata": {
        "id": "KOCKARgsVQls"
      },
      "execution_count": 152,
      "outputs": []
    },
    {
      "cell_type": "markdown",
      "source": [
        "Training Set"
      ],
      "metadata": {
        "id": "VKvQORqu-mKy"
      }
    },
    {
      "cell_type": "code",
      "source": [
        "# applying the smoking_patt and adding the result into the new column in smoking_status_train_df\n",
        "smoking_status_train_df['Reduced Text'] = smoking_status_train_df['Text'].apply(get_reduced_text)"
      ],
      "metadata": {
        "id": "f5ujbpqXVme-"
      },
      "execution_count": 153,
      "outputs": []
    },
    {
      "cell_type": "code",
      "source": [
        "smoking_status_train_df.head()"
      ],
      "metadata": {
        "colab": {
          "base_uri": "https://localhost:8080/",
          "height": 0
        },
        "id": "g_q7fcIfQAMr",
        "outputId": "980cf520-74f0-4bad-fcf9-62419e2d6c53"
      },
      "execution_count": 154,
      "outputs": [
        {
          "output_type": "execute_result",
          "data": {
            "text/plain": [
              "  Record_ID  Smoking_Status  \\\n",
              "0       641  CURRENT SMOKER   \n",
              "1       643  CURRENT SMOKER   \n",
              "2       681  CURRENT SMOKER   \n",
              "3       704  CURRENT SMOKER   \n",
              "4       757  CURRENT SMOKER   \n",
              "\n",
              "                                                Text  \\\n",
              "0  977146916\\nHLGMC\\n2878891\\n022690\\n01/27/1997 ...   \n",
              "1  026738007\\nCMC\\n15319689\\n3/25/1998 12:00:00 A...   \n",
              "2  071962960\\nBH\\n4236518\\n417454\\n12/10/2001 12:...   \n",
              "3  418520250\\nNVH\\n61562872\\n3/11/1995 12:00:00 A...   \n",
              "4  301443520\\nCTMC\\n49020928\\n448922\\n1/11/1990 1...   \n",
              "\n",
              "                                        Reduced Text  \n",
              "0  Drinks ginger brandy to excess , pipe and ciga...  \n",
              "1   The patient has a 20 pack-year smoking history .  \n",
              "2  HAS BEEN SMOKING APPROXIMATELY 10 CIGARETTES A...  \n",
              "3  Smoker for greater than 100 pack years ( 3-1/2...  \n",
              "4                                1-2 packs per day .  "
            ],
            "text/html": [
              "\n",
              "  <div id=\"df-8cf69ec6-99d2-4d7b-9b53-e9a09a68bfef\" class=\"colab-df-container\">\n",
              "    <div>\n",
              "<style scoped>\n",
              "    .dataframe tbody tr th:only-of-type {\n",
              "        vertical-align: middle;\n",
              "    }\n",
              "\n",
              "    .dataframe tbody tr th {\n",
              "        vertical-align: top;\n",
              "    }\n",
              "\n",
              "    .dataframe thead th {\n",
              "        text-align: right;\n",
              "    }\n",
              "</style>\n",
              "<table border=\"1\" class=\"dataframe\">\n",
              "  <thead>\n",
              "    <tr style=\"text-align: right;\">\n",
              "      <th></th>\n",
              "      <th>Record_ID</th>\n",
              "      <th>Smoking_Status</th>\n",
              "      <th>Text</th>\n",
              "      <th>Reduced Text</th>\n",
              "    </tr>\n",
              "  </thead>\n",
              "  <tbody>\n",
              "    <tr>\n",
              "      <th>0</th>\n",
              "      <td>641</td>\n",
              "      <td>CURRENT SMOKER</td>\n",
              "      <td>977146916\\nHLGMC\\n2878891\\n022690\\n01/27/1997 ...</td>\n",
              "      <td>Drinks ginger brandy to excess , pipe and ciga...</td>\n",
              "    </tr>\n",
              "    <tr>\n",
              "      <th>1</th>\n",
              "      <td>643</td>\n",
              "      <td>CURRENT SMOKER</td>\n",
              "      <td>026738007\\nCMC\\n15319689\\n3/25/1998 12:00:00 A...</td>\n",
              "      <td>The patient has a 20 pack-year smoking history .</td>\n",
              "    </tr>\n",
              "    <tr>\n",
              "      <th>2</th>\n",
              "      <td>681</td>\n",
              "      <td>CURRENT SMOKER</td>\n",
              "      <td>071962960\\nBH\\n4236518\\n417454\\n12/10/2001 12:...</td>\n",
              "      <td>HAS BEEN SMOKING APPROXIMATELY 10 CIGARETTES A...</td>\n",
              "    </tr>\n",
              "    <tr>\n",
              "      <th>3</th>\n",
              "      <td>704</td>\n",
              "      <td>CURRENT SMOKER</td>\n",
              "      <td>418520250\\nNVH\\n61562872\\n3/11/1995 12:00:00 A...</td>\n",
              "      <td>Smoker for greater than 100 pack years ( 3-1/2...</td>\n",
              "    </tr>\n",
              "    <tr>\n",
              "      <th>4</th>\n",
              "      <td>757</td>\n",
              "      <td>CURRENT SMOKER</td>\n",
              "      <td>301443520\\nCTMC\\n49020928\\n448922\\n1/11/1990 1...</td>\n",
              "      <td>1-2 packs per day .</td>\n",
              "    </tr>\n",
              "  </tbody>\n",
              "</table>\n",
              "</div>\n",
              "    <div class=\"colab-df-buttons\">\n",
              "\n",
              "  <div class=\"colab-df-container\">\n",
              "    <button class=\"colab-df-convert\" onclick=\"convertToInteractive('df-8cf69ec6-99d2-4d7b-9b53-e9a09a68bfef')\"\n",
              "            title=\"Convert this dataframe to an interactive table.\"\n",
              "            style=\"display:none;\">\n",
              "\n",
              "  <svg xmlns=\"http://www.w3.org/2000/svg\" height=\"24px\" viewBox=\"0 -960 960 960\">\n",
              "    <path d=\"M120-120v-720h720v720H120Zm60-500h600v-160H180v160Zm220 220h160v-160H400v160Zm0 220h160v-160H400v160ZM180-400h160v-160H180v160Zm440 0h160v-160H620v160ZM180-180h160v-160H180v160Zm440 0h160v-160H620v160Z\"/>\n",
              "  </svg>\n",
              "    </button>\n",
              "\n",
              "  <style>\n",
              "    .colab-df-container {\n",
              "      display:flex;\n",
              "      gap: 12px;\n",
              "    }\n",
              "\n",
              "    .colab-df-convert {\n",
              "      background-color: #E8F0FE;\n",
              "      border: none;\n",
              "      border-radius: 50%;\n",
              "      cursor: pointer;\n",
              "      display: none;\n",
              "      fill: #1967D2;\n",
              "      height: 32px;\n",
              "      padding: 0 0 0 0;\n",
              "      width: 32px;\n",
              "    }\n",
              "\n",
              "    .colab-df-convert:hover {\n",
              "      background-color: #E2EBFA;\n",
              "      box-shadow: 0px 1px 2px rgba(60, 64, 67, 0.3), 0px 1px 3px 1px rgba(60, 64, 67, 0.15);\n",
              "      fill: #174EA6;\n",
              "    }\n",
              "\n",
              "    .colab-df-buttons div {\n",
              "      margin-bottom: 4px;\n",
              "    }\n",
              "\n",
              "    [theme=dark] .colab-df-convert {\n",
              "      background-color: #3B4455;\n",
              "      fill: #D2E3FC;\n",
              "    }\n",
              "\n",
              "    [theme=dark] .colab-df-convert:hover {\n",
              "      background-color: #434B5C;\n",
              "      box-shadow: 0px 1px 3px 1px rgba(0, 0, 0, 0.15);\n",
              "      filter: drop-shadow(0px 1px 2px rgba(0, 0, 0, 0.3));\n",
              "      fill: #FFFFFF;\n",
              "    }\n",
              "  </style>\n",
              "\n",
              "    <script>\n",
              "      const buttonEl =\n",
              "        document.querySelector('#df-8cf69ec6-99d2-4d7b-9b53-e9a09a68bfef button.colab-df-convert');\n",
              "      buttonEl.style.display =\n",
              "        google.colab.kernel.accessAllowed ? 'block' : 'none';\n",
              "\n",
              "      async function convertToInteractive(key) {\n",
              "        const element = document.querySelector('#df-8cf69ec6-99d2-4d7b-9b53-e9a09a68bfef');\n",
              "        const dataTable =\n",
              "          await google.colab.kernel.invokeFunction('convertToInteractive',\n",
              "                                                    [key], {});\n",
              "        if (!dataTable) return;\n",
              "\n",
              "        const docLinkHtml = 'Like what you see? Visit the ' +\n",
              "          '<a target=\"_blank\" href=https://colab.research.google.com/notebooks/data_table.ipynb>data table notebook</a>'\n",
              "          + ' to learn more about interactive tables.';\n",
              "        element.innerHTML = '';\n",
              "        dataTable['output_type'] = 'display_data';\n",
              "        await google.colab.output.renderOutput(dataTable, element);\n",
              "        const docLink = document.createElement('div');\n",
              "        docLink.innerHTML = docLinkHtml;\n",
              "        element.appendChild(docLink);\n",
              "      }\n",
              "    </script>\n",
              "  </div>\n",
              "\n",
              "\n",
              "<div id=\"df-46873de6-628b-4f09-ac38-2963eee390d8\">\n",
              "  <button class=\"colab-df-quickchart\" onclick=\"quickchart('df-46873de6-628b-4f09-ac38-2963eee390d8')\"\n",
              "            title=\"Suggest charts\"\n",
              "            style=\"display:none;\">\n",
              "\n",
              "<svg xmlns=\"http://www.w3.org/2000/svg\" height=\"24px\"viewBox=\"0 0 24 24\"\n",
              "     width=\"24px\">\n",
              "    <g>\n",
              "        <path d=\"M19 3H5c-1.1 0-2 .9-2 2v14c0 1.1.9 2 2 2h14c1.1 0 2-.9 2-2V5c0-1.1-.9-2-2-2zM9 17H7v-7h2v7zm4 0h-2V7h2v10zm4 0h-2v-4h2v4z\"/>\n",
              "    </g>\n",
              "</svg>\n",
              "  </button>\n",
              "\n",
              "<style>\n",
              "  .colab-df-quickchart {\n",
              "      --bg-color: #E8F0FE;\n",
              "      --fill-color: #1967D2;\n",
              "      --hover-bg-color: #E2EBFA;\n",
              "      --hover-fill-color: #174EA6;\n",
              "      --disabled-fill-color: #AAA;\n",
              "      --disabled-bg-color: #DDD;\n",
              "  }\n",
              "\n",
              "  [theme=dark] .colab-df-quickchart {\n",
              "      --bg-color: #3B4455;\n",
              "      --fill-color: #D2E3FC;\n",
              "      --hover-bg-color: #434B5C;\n",
              "      --hover-fill-color: #FFFFFF;\n",
              "      --disabled-bg-color: #3B4455;\n",
              "      --disabled-fill-color: #666;\n",
              "  }\n",
              "\n",
              "  .colab-df-quickchart {\n",
              "    background-color: var(--bg-color);\n",
              "    border: none;\n",
              "    border-radius: 50%;\n",
              "    cursor: pointer;\n",
              "    display: none;\n",
              "    fill: var(--fill-color);\n",
              "    height: 32px;\n",
              "    padding: 0;\n",
              "    width: 32px;\n",
              "  }\n",
              "\n",
              "  .colab-df-quickchart:hover {\n",
              "    background-color: var(--hover-bg-color);\n",
              "    box-shadow: 0 1px 2px rgba(60, 64, 67, 0.3), 0 1px 3px 1px rgba(60, 64, 67, 0.15);\n",
              "    fill: var(--button-hover-fill-color);\n",
              "  }\n",
              "\n",
              "  .colab-df-quickchart-complete:disabled,\n",
              "  .colab-df-quickchart-complete:disabled:hover {\n",
              "    background-color: var(--disabled-bg-color);\n",
              "    fill: var(--disabled-fill-color);\n",
              "    box-shadow: none;\n",
              "  }\n",
              "\n",
              "  .colab-df-spinner {\n",
              "    border: 2px solid var(--fill-color);\n",
              "    border-color: transparent;\n",
              "    border-bottom-color: var(--fill-color);\n",
              "    animation:\n",
              "      spin 1s steps(1) infinite;\n",
              "  }\n",
              "\n",
              "  @keyframes spin {\n",
              "    0% {\n",
              "      border-color: transparent;\n",
              "      border-bottom-color: var(--fill-color);\n",
              "      border-left-color: var(--fill-color);\n",
              "    }\n",
              "    20% {\n",
              "      border-color: transparent;\n",
              "      border-left-color: var(--fill-color);\n",
              "      border-top-color: var(--fill-color);\n",
              "    }\n",
              "    30% {\n",
              "      border-color: transparent;\n",
              "      border-left-color: var(--fill-color);\n",
              "      border-top-color: var(--fill-color);\n",
              "      border-right-color: var(--fill-color);\n",
              "    }\n",
              "    40% {\n",
              "      border-color: transparent;\n",
              "      border-right-color: var(--fill-color);\n",
              "      border-top-color: var(--fill-color);\n",
              "    }\n",
              "    60% {\n",
              "      border-color: transparent;\n",
              "      border-right-color: var(--fill-color);\n",
              "    }\n",
              "    80% {\n",
              "      border-color: transparent;\n",
              "      border-right-color: var(--fill-color);\n",
              "      border-bottom-color: var(--fill-color);\n",
              "    }\n",
              "    90% {\n",
              "      border-color: transparent;\n",
              "      border-bottom-color: var(--fill-color);\n",
              "    }\n",
              "  }\n",
              "</style>\n",
              "\n",
              "  <script>\n",
              "    async function quickchart(key) {\n",
              "      const quickchartButtonEl =\n",
              "        document.querySelector('#' + key + ' button');\n",
              "      quickchartButtonEl.disabled = true;  // To prevent multiple clicks.\n",
              "      quickchartButtonEl.classList.add('colab-df-spinner');\n",
              "      try {\n",
              "        const charts = await google.colab.kernel.invokeFunction(\n",
              "            'suggestCharts', [key], {});\n",
              "      } catch (error) {\n",
              "        console.error('Error during call to suggestCharts:', error);\n",
              "      }\n",
              "      quickchartButtonEl.classList.remove('colab-df-spinner');\n",
              "      quickchartButtonEl.classList.add('colab-df-quickchart-complete');\n",
              "    }\n",
              "    (() => {\n",
              "      let quickchartButtonEl =\n",
              "        document.querySelector('#df-46873de6-628b-4f09-ac38-2963eee390d8 button');\n",
              "      quickchartButtonEl.style.display =\n",
              "        google.colab.kernel.accessAllowed ? 'block' : 'none';\n",
              "    })();\n",
              "  </script>\n",
              "</div>\n",
              "    </div>\n",
              "  </div>\n"
            ]
          },
          "metadata": {},
          "execution_count": 154
        }
      ]
    },
    {
      "cell_type": "markdown",
      "source": [
        " Test Set"
      ],
      "metadata": {
        "id": "gecDecyy-opC"
      }
    },
    {
      "cell_type": "code",
      "source": [
        "# applying the smoking_patt and adding the result into the new column in smoking_status_test_df\n",
        "smoking_status_test_df['Reduced Text'] = smoking_status_test_df['Text'].apply(get_reduced_text)\n",
        "smoking_status_train_df.head()"
      ],
      "metadata": {
        "id": "GRE4VjOO-sMh",
        "colab": {
          "base_uri": "https://localhost:8080/",
          "height": 0
        },
        "outputId": "6dac8497-5ac3-4b93-dc41-31fc99042f87"
      },
      "execution_count": 155,
      "outputs": [
        {
          "output_type": "execute_result",
          "data": {
            "text/plain": [
              "  Record_ID  Smoking_Status  \\\n",
              "0       641  CURRENT SMOKER   \n",
              "1       643  CURRENT SMOKER   \n",
              "2       681  CURRENT SMOKER   \n",
              "3       704  CURRENT SMOKER   \n",
              "4       757  CURRENT SMOKER   \n",
              "\n",
              "                                                Text  \\\n",
              "0  977146916\\nHLGMC\\n2878891\\n022690\\n01/27/1997 ...   \n",
              "1  026738007\\nCMC\\n15319689\\n3/25/1998 12:00:00 A...   \n",
              "2  071962960\\nBH\\n4236518\\n417454\\n12/10/2001 12:...   \n",
              "3  418520250\\nNVH\\n61562872\\n3/11/1995 12:00:00 A...   \n",
              "4  301443520\\nCTMC\\n49020928\\n448922\\n1/11/1990 1...   \n",
              "\n",
              "                                        Reduced Text  \n",
              "0  Drinks ginger brandy to excess , pipe and ciga...  \n",
              "1   The patient has a 20 pack-year smoking history .  \n",
              "2  HAS BEEN SMOKING APPROXIMATELY 10 CIGARETTES A...  \n",
              "3  Smoker for greater than 100 pack years ( 3-1/2...  \n",
              "4                                1-2 packs per day .  "
            ],
            "text/html": [
              "\n",
              "  <div id=\"df-093c8bd8-e1c7-4dfc-8bdf-4908773275e3\" class=\"colab-df-container\">\n",
              "    <div>\n",
              "<style scoped>\n",
              "    .dataframe tbody tr th:only-of-type {\n",
              "        vertical-align: middle;\n",
              "    }\n",
              "\n",
              "    .dataframe tbody tr th {\n",
              "        vertical-align: top;\n",
              "    }\n",
              "\n",
              "    .dataframe thead th {\n",
              "        text-align: right;\n",
              "    }\n",
              "</style>\n",
              "<table border=\"1\" class=\"dataframe\">\n",
              "  <thead>\n",
              "    <tr style=\"text-align: right;\">\n",
              "      <th></th>\n",
              "      <th>Record_ID</th>\n",
              "      <th>Smoking_Status</th>\n",
              "      <th>Text</th>\n",
              "      <th>Reduced Text</th>\n",
              "    </tr>\n",
              "  </thead>\n",
              "  <tbody>\n",
              "    <tr>\n",
              "      <th>0</th>\n",
              "      <td>641</td>\n",
              "      <td>CURRENT SMOKER</td>\n",
              "      <td>977146916\\nHLGMC\\n2878891\\n022690\\n01/27/1997 ...</td>\n",
              "      <td>Drinks ginger brandy to excess , pipe and ciga...</td>\n",
              "    </tr>\n",
              "    <tr>\n",
              "      <th>1</th>\n",
              "      <td>643</td>\n",
              "      <td>CURRENT SMOKER</td>\n",
              "      <td>026738007\\nCMC\\n15319689\\n3/25/1998 12:00:00 A...</td>\n",
              "      <td>The patient has a 20 pack-year smoking history .</td>\n",
              "    </tr>\n",
              "    <tr>\n",
              "      <th>2</th>\n",
              "      <td>681</td>\n",
              "      <td>CURRENT SMOKER</td>\n",
              "      <td>071962960\\nBH\\n4236518\\n417454\\n12/10/2001 12:...</td>\n",
              "      <td>HAS BEEN SMOKING APPROXIMATELY 10 CIGARETTES A...</td>\n",
              "    </tr>\n",
              "    <tr>\n",
              "      <th>3</th>\n",
              "      <td>704</td>\n",
              "      <td>CURRENT SMOKER</td>\n",
              "      <td>418520250\\nNVH\\n61562872\\n3/11/1995 12:00:00 A...</td>\n",
              "      <td>Smoker for greater than 100 pack years ( 3-1/2...</td>\n",
              "    </tr>\n",
              "    <tr>\n",
              "      <th>4</th>\n",
              "      <td>757</td>\n",
              "      <td>CURRENT SMOKER</td>\n",
              "      <td>301443520\\nCTMC\\n49020928\\n448922\\n1/11/1990 1...</td>\n",
              "      <td>1-2 packs per day .</td>\n",
              "    </tr>\n",
              "  </tbody>\n",
              "</table>\n",
              "</div>\n",
              "    <div class=\"colab-df-buttons\">\n",
              "\n",
              "  <div class=\"colab-df-container\">\n",
              "    <button class=\"colab-df-convert\" onclick=\"convertToInteractive('df-093c8bd8-e1c7-4dfc-8bdf-4908773275e3')\"\n",
              "            title=\"Convert this dataframe to an interactive table.\"\n",
              "            style=\"display:none;\">\n",
              "\n",
              "  <svg xmlns=\"http://www.w3.org/2000/svg\" height=\"24px\" viewBox=\"0 -960 960 960\">\n",
              "    <path d=\"M120-120v-720h720v720H120Zm60-500h600v-160H180v160Zm220 220h160v-160H400v160Zm0 220h160v-160H400v160ZM180-400h160v-160H180v160Zm440 0h160v-160H620v160ZM180-180h160v-160H180v160Zm440 0h160v-160H620v160Z\"/>\n",
              "  </svg>\n",
              "    </button>\n",
              "\n",
              "  <style>\n",
              "    .colab-df-container {\n",
              "      display:flex;\n",
              "      gap: 12px;\n",
              "    }\n",
              "\n",
              "    .colab-df-convert {\n",
              "      background-color: #E8F0FE;\n",
              "      border: none;\n",
              "      border-radius: 50%;\n",
              "      cursor: pointer;\n",
              "      display: none;\n",
              "      fill: #1967D2;\n",
              "      height: 32px;\n",
              "      padding: 0 0 0 0;\n",
              "      width: 32px;\n",
              "    }\n",
              "\n",
              "    .colab-df-convert:hover {\n",
              "      background-color: #E2EBFA;\n",
              "      box-shadow: 0px 1px 2px rgba(60, 64, 67, 0.3), 0px 1px 3px 1px rgba(60, 64, 67, 0.15);\n",
              "      fill: #174EA6;\n",
              "    }\n",
              "\n",
              "    .colab-df-buttons div {\n",
              "      margin-bottom: 4px;\n",
              "    }\n",
              "\n",
              "    [theme=dark] .colab-df-convert {\n",
              "      background-color: #3B4455;\n",
              "      fill: #D2E3FC;\n",
              "    }\n",
              "\n",
              "    [theme=dark] .colab-df-convert:hover {\n",
              "      background-color: #434B5C;\n",
              "      box-shadow: 0px 1px 3px 1px rgba(0, 0, 0, 0.15);\n",
              "      filter: drop-shadow(0px 1px 2px rgba(0, 0, 0, 0.3));\n",
              "      fill: #FFFFFF;\n",
              "    }\n",
              "  </style>\n",
              "\n",
              "    <script>\n",
              "      const buttonEl =\n",
              "        document.querySelector('#df-093c8bd8-e1c7-4dfc-8bdf-4908773275e3 button.colab-df-convert');\n",
              "      buttonEl.style.display =\n",
              "        google.colab.kernel.accessAllowed ? 'block' : 'none';\n",
              "\n",
              "      async function convertToInteractive(key) {\n",
              "        const element = document.querySelector('#df-093c8bd8-e1c7-4dfc-8bdf-4908773275e3');\n",
              "        const dataTable =\n",
              "          await google.colab.kernel.invokeFunction('convertToInteractive',\n",
              "                                                    [key], {});\n",
              "        if (!dataTable) return;\n",
              "\n",
              "        const docLinkHtml = 'Like what you see? Visit the ' +\n",
              "          '<a target=\"_blank\" href=https://colab.research.google.com/notebooks/data_table.ipynb>data table notebook</a>'\n",
              "          + ' to learn more about interactive tables.';\n",
              "        element.innerHTML = '';\n",
              "        dataTable['output_type'] = 'display_data';\n",
              "        await google.colab.output.renderOutput(dataTable, element);\n",
              "        const docLink = document.createElement('div');\n",
              "        docLink.innerHTML = docLinkHtml;\n",
              "        element.appendChild(docLink);\n",
              "      }\n",
              "    </script>\n",
              "  </div>\n",
              "\n",
              "\n",
              "<div id=\"df-c6990aac-91ad-4937-91f3-e87b9b2a884a\">\n",
              "  <button class=\"colab-df-quickchart\" onclick=\"quickchart('df-c6990aac-91ad-4937-91f3-e87b9b2a884a')\"\n",
              "            title=\"Suggest charts\"\n",
              "            style=\"display:none;\">\n",
              "\n",
              "<svg xmlns=\"http://www.w3.org/2000/svg\" height=\"24px\"viewBox=\"0 0 24 24\"\n",
              "     width=\"24px\">\n",
              "    <g>\n",
              "        <path d=\"M19 3H5c-1.1 0-2 .9-2 2v14c0 1.1.9 2 2 2h14c1.1 0 2-.9 2-2V5c0-1.1-.9-2-2-2zM9 17H7v-7h2v7zm4 0h-2V7h2v10zm4 0h-2v-4h2v4z\"/>\n",
              "    </g>\n",
              "</svg>\n",
              "  </button>\n",
              "\n",
              "<style>\n",
              "  .colab-df-quickchart {\n",
              "      --bg-color: #E8F0FE;\n",
              "      --fill-color: #1967D2;\n",
              "      --hover-bg-color: #E2EBFA;\n",
              "      --hover-fill-color: #174EA6;\n",
              "      --disabled-fill-color: #AAA;\n",
              "      --disabled-bg-color: #DDD;\n",
              "  }\n",
              "\n",
              "  [theme=dark] .colab-df-quickchart {\n",
              "      --bg-color: #3B4455;\n",
              "      --fill-color: #D2E3FC;\n",
              "      --hover-bg-color: #434B5C;\n",
              "      --hover-fill-color: #FFFFFF;\n",
              "      --disabled-bg-color: #3B4455;\n",
              "      --disabled-fill-color: #666;\n",
              "  }\n",
              "\n",
              "  .colab-df-quickchart {\n",
              "    background-color: var(--bg-color);\n",
              "    border: none;\n",
              "    border-radius: 50%;\n",
              "    cursor: pointer;\n",
              "    display: none;\n",
              "    fill: var(--fill-color);\n",
              "    height: 32px;\n",
              "    padding: 0;\n",
              "    width: 32px;\n",
              "  }\n",
              "\n",
              "  .colab-df-quickchart:hover {\n",
              "    background-color: var(--hover-bg-color);\n",
              "    box-shadow: 0 1px 2px rgba(60, 64, 67, 0.3), 0 1px 3px 1px rgba(60, 64, 67, 0.15);\n",
              "    fill: var(--button-hover-fill-color);\n",
              "  }\n",
              "\n",
              "  .colab-df-quickchart-complete:disabled,\n",
              "  .colab-df-quickchart-complete:disabled:hover {\n",
              "    background-color: var(--disabled-bg-color);\n",
              "    fill: var(--disabled-fill-color);\n",
              "    box-shadow: none;\n",
              "  }\n",
              "\n",
              "  .colab-df-spinner {\n",
              "    border: 2px solid var(--fill-color);\n",
              "    border-color: transparent;\n",
              "    border-bottom-color: var(--fill-color);\n",
              "    animation:\n",
              "      spin 1s steps(1) infinite;\n",
              "  }\n",
              "\n",
              "  @keyframes spin {\n",
              "    0% {\n",
              "      border-color: transparent;\n",
              "      border-bottom-color: var(--fill-color);\n",
              "      border-left-color: var(--fill-color);\n",
              "    }\n",
              "    20% {\n",
              "      border-color: transparent;\n",
              "      border-left-color: var(--fill-color);\n",
              "      border-top-color: var(--fill-color);\n",
              "    }\n",
              "    30% {\n",
              "      border-color: transparent;\n",
              "      border-left-color: var(--fill-color);\n",
              "      border-top-color: var(--fill-color);\n",
              "      border-right-color: var(--fill-color);\n",
              "    }\n",
              "    40% {\n",
              "      border-color: transparent;\n",
              "      border-right-color: var(--fill-color);\n",
              "      border-top-color: var(--fill-color);\n",
              "    }\n",
              "    60% {\n",
              "      border-color: transparent;\n",
              "      border-right-color: var(--fill-color);\n",
              "    }\n",
              "    80% {\n",
              "      border-color: transparent;\n",
              "      border-right-color: var(--fill-color);\n",
              "      border-bottom-color: var(--fill-color);\n",
              "    }\n",
              "    90% {\n",
              "      border-color: transparent;\n",
              "      border-bottom-color: var(--fill-color);\n",
              "    }\n",
              "  }\n",
              "</style>\n",
              "\n",
              "  <script>\n",
              "    async function quickchart(key) {\n",
              "      const quickchartButtonEl =\n",
              "        document.querySelector('#' + key + ' button');\n",
              "      quickchartButtonEl.disabled = true;  // To prevent multiple clicks.\n",
              "      quickchartButtonEl.classList.add('colab-df-spinner');\n",
              "      try {\n",
              "        const charts = await google.colab.kernel.invokeFunction(\n",
              "            'suggestCharts', [key], {});\n",
              "      } catch (error) {\n",
              "        console.error('Error during call to suggestCharts:', error);\n",
              "      }\n",
              "      quickchartButtonEl.classList.remove('colab-df-spinner');\n",
              "      quickchartButtonEl.classList.add('colab-df-quickchart-complete');\n",
              "    }\n",
              "    (() => {\n",
              "      let quickchartButtonEl =\n",
              "        document.querySelector('#df-c6990aac-91ad-4937-91f3-e87b9b2a884a button');\n",
              "      quickchartButtonEl.style.display =\n",
              "        google.colab.kernel.accessAllowed ? 'block' : 'none';\n",
              "    })();\n",
              "  </script>\n",
              "</div>\n",
              "    </div>\n",
              "  </div>\n"
            ]
          },
          "metadata": {},
          "execution_count": 155
        }
      ]
    },
    {
      "cell_type": "markdown",
      "source": [
        "Shapes"
      ],
      "metadata": {
        "id": "8bmB2SK_6VUe"
      }
    },
    {
      "cell_type": "code",
      "source": [
        "print(smoking_status_train_df.shape)\n",
        "print(smoking_status_test_df.shape)"
      ],
      "metadata": {
        "id": "mndl6Ol_vR8E",
        "colab": {
          "base_uri": "https://localhost:8080/"
        },
        "outputId": "ff8c1467-cf56-4f83-c61c-30e40b106262"
      },
      "execution_count": 156,
      "outputs": [
        {
          "output_type": "stream",
          "name": "stdout",
          "text": [
            "(398, 4)\n",
            "(104, 3)\n"
          ]
        }
      ]
    },
    {
      "cell_type": "markdown",
      "source": [
        "### 3. Check for NA Values\n"
      ],
      "metadata": {
        "id": "sYMd5iapBGaf"
      }
    },
    {
      "cell_type": "code",
      "source": [
        "# Check if there are any missing values in the DataFrame\n",
        "missing_values = smoking_status_train_df.isnull().values.any()\n",
        "\n",
        "if missing_values:\n",
        "    print(\"There are missing values in the DataFrame.\")\n",
        "else:\n",
        "    print(\"No missing values found.\")\n"
      ],
      "metadata": {
        "colab": {
          "base_uri": "https://localhost:8080/"
        },
        "id": "Ctnpi0TEXart",
        "outputId": "52bae324-a301-4fb4-eef2-25b9809c2331"
      },
      "execution_count": 157,
      "outputs": [
        {
          "output_type": "stream",
          "name": "stdout",
          "text": [
            "No missing values found.\n"
          ]
        }
      ]
    },
    {
      "cell_type": "markdown",
      "source": [
        "# Step 3: Keras Model\n"
      ],
      "metadata": {
        "id": "ge8Mxc9BXtzX"
      }
    },
    {
      "cell_type": "markdown",
      "source": [
        "### Checking the labels"
      ],
      "metadata": {
        "id": "TYfRSIwg3JcK"
      }
    },
    {
      "cell_type": "code",
      "source": [
        "import pandas as pd\n",
        "\n",
        "y_train_red = smoking_status_train_df['Smoking_Status'].values\n",
        "\n",
        "# Converting the array to a pandas Series for ease of use\n",
        "y_train_red_series = pd.Series(y_train_red)\n",
        "\n",
        "# Displaying unique values present in y_train_red\n",
        "unique_labels = y_train_red_series.unique()\n",
        "print(\"Unique Smoking Status Labels in y_train_red:\")\n",
        "print(unique_labels)\n",
        "\n",
        "y_test = smoking_status_test_labels_df['Smoking_Status'].values\n",
        "\n",
        "# Converting the array to a pandas Series for ease of use\n",
        "y_test_series = pd.Series(y_test)\n",
        "\n",
        "# Displaying unique values present in y_test\n",
        "unique_test_labels = y_test_series.unique()\n",
        "print(\"Unique Smoking Status Labels in y_test:\")\n",
        "print(unique_test_labels)"
      ],
      "metadata": {
        "colab": {
          "base_uri": "https://localhost:8080/"
        },
        "id": "G9gZKOcT8BiK",
        "outputId": "3f245ff0-e78c-48c8-9b96-e7b1ab5dd86c"
      },
      "execution_count": 161,
      "outputs": [
        {
          "output_type": "stream",
          "name": "stdout",
          "text": [
            "Unique Smoking Status Labels in y_train_red:\n",
            "['CURRENT SMOKER' 'NON-SMOKER' 'PAST SMOKER' 'SMOKER' 'UNKNOWN']\n",
            "Unique Smoking Status Labels in y_test:\n",
            "['PAST SMOKER' 'CURRENT SMOKER' 'NON-SMOKER' 'UNKNOWN' 'SMOKER']\n"
          ]
        }
      ]
    },
    {
      "cell_type": "markdown",
      "source": [
        "#### Best maxlen for the reduced text"
      ],
      "metadata": {
        "id": "cQYPLuY89BER"
      }
    },
    {
      "cell_type": "code",
      "source": [
        "# text_lengths in the reduced text\n",
        "text_lengths = [len(note.split()) for note in smoking_status_train_df['Reduced Text']]\n",
        "\n",
        "# Calculating the statistics\n",
        "mean_length = np.mean(text_lengths)\n",
        "median_length = np.median(text_lengths)\n",
        "percentile_90 = np.percentile(text_lengths, 90)\n",
        "\n",
        "print(f\"Mean length: {mean_length}\")\n",
        "print(f\"Median length: {median_length}\")\n",
        "print(f\"90th percentile length: {percentile_90}\")"
      ],
      "metadata": {
        "colab": {
          "base_uri": "https://localhost:8080/"
        },
        "id": "ngaKDr2N8_I6",
        "outputId": "0ad7b039-a8ef-4b2a-cbea-e27ee3a69c8d"
      },
      "execution_count": 162,
      "outputs": [
        {
          "output_type": "stream",
          "name": "stdout",
          "text": [
            "Mean length: 8.879396984924623\n",
            "Median length: 3.0\n",
            "90th percentile length: 19.0\n"
          ]
        }
      ]
    },
    {
      "cell_type": "markdown",
      "source": [
        "### Pre-processing"
      ],
      "metadata": {
        "id": "uvS8HBkDZ9up"
      }
    },
    {
      "cell_type": "markdown",
      "source": [
        "*   Text Tokenization and Padding: The text sequences are tokenized and padded to a fixed length of 20 using Keras Tokenizer and pad_sequences to ensure uniform input size for the model.\n",
        "*   Label Encoding and Categorical Conversion: The smoking status labels are encoded using LabelEncoder and then converted into a categorical one-hot encoded format via to_categorical from Keras to be suitable for multi-class classification.\n",
        "\n"
      ],
      "metadata": {
        "id": "uYGMwhvq8q_M"
      }
    },
    {
      "cell_type": "code",
      "source": [
        "from keras.preprocessing.text import Tokenizer\n",
        "from keras.preprocessing.sequence import pad_sequences\n",
        "from keras.models import Sequential\n",
        "from keras.layers import Embedding, LSTM, Dense, Dropout\n",
        "from keras.utils import to_categorical\n",
        "from sklearn.preprocessing import LabelEncoder\n",
        "\n",
        "# X values are text and y values are smoking status in the training set\n",
        "X_train_red = smoking_status_train_df['Reduced Text'].values\n",
        "y_train = smoking_status_train_df['Smoking_Status'].values\n",
        "\n",
        "# X values are text and y values are smoking status in the test set\n",
        "X_test_red = smoking_status_test_df['Reduced Text'].values\n",
        "y_test = smoking_status_test_labels_df['Smoking_Status'].values\n",
        "\n",
        "# Tokenize and pad sequences for Reduced Text in both x_train and x_test\n",
        "tokenizer = Tokenizer()\n",
        "tokenizer.fit_on_texts(X_train_red)\n",
        "X_train_seq = tokenizer.texts_to_sequences(X_train_red)\n",
        "X_test_seq = tokenizer.texts_to_sequences(X_test_red)\n",
        "\n",
        "# Actual padding\n",
        "max_sequence_length = 20\n",
        "X_train_padded = pad_sequences(X_train_seq, maxlen=max_sequence_length)\n",
        "X_test_padded = pad_sequences(X_test_seq, maxlen=max_sequence_length)\n",
        "\n",
        "# Encoding labels using LabelEncoder\n",
        "label_encoder = LabelEncoder()\n",
        "y_train_encoded = label_encoder.fit_transform(y_train)\n",
        "y_test_encoded = label_encoder.transform(y_test)\n",
        "\n",
        "# Convert numerical labels to one-hot encoded format\n",
        "num_classes = len(label_encoder.classes_)\n",
        "y_train_categorical = to_categorical(y_train_encoded, num_classes=num_classes)\n",
        "y_test_categorical = to_categorical(y_test_encoded, num_classes=num_classes)\n",
        "print(f\"Number of classes: {num_classes}\")"
      ],
      "metadata": {
        "colab": {
          "base_uri": "https://localhost:8080/"
        },
        "id": "rq0mpMK305s6",
        "outputId": "77506dc0-9baa-4eae-f933-7e0b9d62bf41"
      },
      "execution_count": 164,
      "outputs": [
        {
          "output_type": "stream",
          "name": "stdout",
          "text": [
            "Number of classes: 5\n"
          ]
        }
      ]
    },
    {
      "cell_type": "markdown",
      "source": [
        "### Building and Training the model"
      ],
      "metadata": {
        "id": "6eSzVbRh_nNs"
      }
    },
    {
      "cell_type": "markdown",
      "source": [
        "*   Model Architecture: A Sequential model is created in Keras. It comprises an Embedding layer to handle word embeddings, followed by an LSTM layer with 128 units. There's an additional Dense layer with 128 units and ReLU activation. The output layer contains the number of units equivalent to the number of classes (5 in this case), utilizing softmax activation.\n",
        "*   Model Training: The model is compiled using the Adam optimizer and categorical cross-entropy loss. It's then trained on the preprocessed training data for 25 epochs with a batch size of 64, utilizing a 10% validation split for monitoring performance.\n",
        "*   Training Execution: The train_model() function is defined to encapsulate model creation, summary, compilation, training execution, and returns both the trained model and training history for further analysis or evaluation.\n"
      ],
      "metadata": {
        "id": "JXXzMcru-zgN"
      }
    },
    {
      "cell_type": "code",
      "source": [
        "import tensorflow as tf\n",
        "from keras.models import Sequential\n",
        "from keras.layers import Embedding, LSTM, Dense, Dropout\n",
        "\n",
        "# Defining the parameters\n",
        "embedding_dim = 200\n",
        "vocab_size = len(tokenizer.word_index) + 1\n",
        "num_classes = 5  # Number of categories for smoking status\n",
        "maxlen = 20\n",
        "dropout = 0.2\n",
        "\n",
        "def train_model():\n",
        "\n",
        "    # Creating a Sequential model\n",
        "    model = Sequential()\n",
        "\n",
        "    # Adding layers to the model\n",
        "    model.add(Embedding(input_dim=vocab_size,\n",
        "                        output_dim=embedding_dim,\n",
        "                        input_length=maxlen))\n",
        "\n",
        "    model.add(LSTM(units=128, return_sequences=False))  # Set return_sequences=False for the last LSTM layer\n",
        "    model.add(Dense(units=128, activation='relu'))  # Additional Dense layer\n",
        "    model.add(Dense(units=num_classes, activation='softmax'))\n",
        "    model.add(Dropout(dropout))\n",
        "\n",
        "    # Displaying\n",
        "    model.summary()\n",
        "    model.compile(optimizer='adam',\n",
        "                  loss='categorical_crossentropy',\n",
        "                  metrics=['accuracy'])\n",
        "\n",
        "    # Training the model without early stopping\n",
        "    history = model.fit(\n",
        "        X_train_padded, y_train_categorical,\n",
        "        batch_size=64,\n",
        "        epochs=25,\n",
        "        validation_split=0.1\n",
        "    )\n",
        "    return model, history\n",
        "\n",
        "# Call the function to train the model\n",
        "model, history = train_model()\n"
      ],
      "metadata": {
        "colab": {
          "base_uri": "https://localhost:8080/"
        },
        "id": "1_nUQNGDyLQw",
        "outputId": "aead922e-05a0-48e0-9ede-840d8a361517"
      },
      "execution_count": 171,
      "outputs": [
        {
          "output_type": "stream",
          "name": "stdout",
          "text": [
            "Model: \"sequential_22\"\n",
            "_________________________________________________________________\n",
            " Layer (type)                Output Shape              Param #   \n",
            "=================================================================\n",
            " embedding_20 (Embedding)    (None, 20, 200)           130000    \n",
            "                                                                 \n",
            " lstm_20 (LSTM)              (None, 128)               168448    \n",
            "                                                                 \n",
            " dense_19 (Dense)            (None, 128)               16512     \n",
            "                                                                 \n",
            " dense_20 (Dense)            (None, 5)                 645       \n",
            "                                                                 \n",
            " dropout_19 (Dropout)        (None, 5)                 0         \n",
            "                                                                 \n",
            "=================================================================\n",
            "Total params: 315605 (1.20 MB)\n",
            "Trainable params: 315605 (1.20 MB)\n",
            "Non-trainable params: 0 (0.00 Byte)\n",
            "_________________________________________________________________\n",
            "Epoch 1/25\n",
            "6/6 [==============================] - 3s 177ms/step - loss: 4.2901 - accuracy: 0.4274 - val_loss: 0.9229 - val_accuracy: 1.0000\n",
            "Epoch 2/25\n",
            "6/6 [==============================] - 0s 69ms/step - loss: 3.6312 - accuracy: 0.5335 - val_loss: 0.2037 - val_accuracy: 1.0000\n",
            "Epoch 3/25\n",
            "6/6 [==============================] - 0s 67ms/step - loss: 4.5804 - accuracy: 0.5363 - val_loss: 0.4633 - val_accuracy: 1.0000\n",
            "Epoch 4/25\n",
            "6/6 [==============================] - 0s 67ms/step - loss: nan - accuracy: 0.5978 - val_loss: 0.1704 - val_accuracy: 0.9750\n",
            "Epoch 5/25\n",
            "6/6 [==============================] - 0s 68ms/step - loss: 3.3795 - accuracy: 0.6425 - val_loss: 0.1900 - val_accuracy: 0.9500\n",
            "Epoch 6/25\n",
            "6/6 [==============================] - 0s 69ms/step - loss: 3.8467 - accuracy: 0.6620 - val_loss: 0.1340 - val_accuracy: 0.9500\n",
            "Epoch 7/25\n",
            "6/6 [==============================] - 0s 67ms/step - loss: 3.2279 - accuracy: 0.7011 - val_loss: 0.1352 - val_accuracy: 0.9500\n",
            "Epoch 8/25\n",
            "6/6 [==============================] - 0s 68ms/step - loss: 3.7384 - accuracy: 0.6899 - val_loss: 0.1376 - val_accuracy: 0.9500\n",
            "Epoch 9/25\n",
            "6/6 [==============================] - 0s 67ms/step - loss: 3.7168 - accuracy: 0.7067 - val_loss: 0.1450 - val_accuracy: 0.9500\n",
            "Epoch 10/25\n",
            "6/6 [==============================] - 0s 65ms/step - loss: 3.4630 - accuracy: 0.7207 - val_loss: 0.1536 - val_accuracy: 0.9500\n",
            "Epoch 11/25\n",
            "6/6 [==============================] - 0s 71ms/step - loss: 2.8330 - accuracy: 0.7877 - val_loss: 0.1612 - val_accuracy: 0.9500\n",
            "Epoch 12/25\n",
            "6/6 [==============================] - 0s 66ms/step - loss: 2.9496 - accuracy: 0.7793 - val_loss: 0.1612 - val_accuracy: 0.9500\n",
            "Epoch 13/25\n",
            "6/6 [==============================] - 1s 106ms/step - loss: 2.7414 - accuracy: 0.7933 - val_loss: 0.1793 - val_accuracy: 0.9500\n",
            "Epoch 14/25\n",
            "6/6 [==============================] - 1s 115ms/step - loss: 3.3799 - accuracy: 0.7514 - val_loss: 0.1870 - val_accuracy: 0.9500\n",
            "Epoch 15/25\n",
            "6/6 [==============================] - 1s 120ms/step - loss: nan - accuracy: 0.7374 - val_loss: 0.1849 - val_accuracy: 0.9500\n",
            "Epoch 16/25\n",
            "6/6 [==============================] - 1s 139ms/step - loss: 4.0115 - accuracy: 0.7318 - val_loss: 0.1723 - val_accuracy: 0.9500\n",
            "Epoch 17/25\n",
            "6/6 [==============================] - 1s 149ms/step - loss: 2.9881 - accuracy: 0.7933 - val_loss: 0.1891 - val_accuracy: 0.9500\n",
            "Epoch 18/25\n",
            "6/6 [==============================] - 1s 144ms/step - loss: nan - accuracy: 0.7598 - val_loss: 0.2233 - val_accuracy: 0.9500\n",
            "Epoch 19/25\n",
            "6/6 [==============================] - 1s 129ms/step - loss: 3.2831 - accuracy: 0.7765 - val_loss: 0.2176 - val_accuracy: 0.9500\n",
            "Epoch 20/25\n",
            "6/6 [==============================] - 1s 144ms/step - loss: 3.5077 - accuracy: 0.7654 - val_loss: 0.2020 - val_accuracy: 0.9500\n",
            "Epoch 21/25\n",
            "6/6 [==============================] - 1s 143ms/step - loss: 3.0722 - accuracy: 0.7989 - val_loss: 0.2247 - val_accuracy: 0.9500\n",
            "Epoch 22/25\n",
            "6/6 [==============================] - 1s 128ms/step - loss: 3.2942 - accuracy: 0.7737 - val_loss: 0.2654 - val_accuracy: 0.9500\n",
            "Epoch 23/25\n",
            "6/6 [==============================] - 1s 145ms/step - loss: 3.4436 - accuracy: 0.7765 - val_loss: 0.2334 - val_accuracy: 0.9500\n",
            "Epoch 24/25\n",
            "6/6 [==============================] - 1s 147ms/step - loss: 3.5830 - accuracy: 0.7682 - val_loss: 0.2458 - val_accuracy: 0.9500\n",
            "Epoch 25/25\n",
            "6/6 [==============================] - 1s 148ms/step - loss: nan - accuracy: 0.7793 - val_loss: 0.3126 - val_accuracy: 0.9500\n"
          ]
        }
      ]
    },
    {
      "cell_type": "markdown",
      "source": [
        "### Evaluating the model\n",
        "\n"
      ],
      "metadata": {
        "id": "d_GG-u0z_rdR"
      }
    },
    {
      "cell_type": "code",
      "source": [
        "import matplotlib.pyplot as plt\n",
        "\n",
        "# Plotting learning curves\n",
        "def plot_learning_curves(history):\n",
        "    plt.figure(figsize=(10, 5))\n",
        "\n",
        "    # Plot training & validation accuracy values\n",
        "    plt.subplot(1, 2, 1)\n",
        "    plt.plot(history.history['accuracy'])\n",
        "    plt.plot(history.history['val_accuracy'])\n",
        "    plt.title('Model accuracy')\n",
        "    plt.ylabel('Accuracy')\n",
        "    plt.xlabel('Epoch')\n",
        "    plt.legend(['Train', 'Validation'], loc='upper left')\n",
        "\n",
        "    # Plot training & validation loss values\n",
        "    plt.subplot(1, 2, 2)\n",
        "    plt.plot(history.history['loss'])\n",
        "    plt.plot(history.history['val_loss'])\n",
        "    plt.title('Model loss')\n",
        "    plt.ylabel('Loss')\n",
        "    plt.xlabel('Epoch')\n",
        "    plt.legend(['Train', 'Validation'], loc='upper left')\n",
        "\n",
        "    plt.tight_layout()\n",
        "    plt.show()\n",
        "\n",
        "plot_learning_curves(history)\n",
        "\n",
        "# Evaluate accuracy on the test set\n",
        "loss, accuracy = model.evaluate(X_test_padded, y_test_categorical)\n",
        "print(f'Test Loss: {loss:.4f}')\n",
        "print(f'Test Accuracy: {accuracy:.4f}')\n"
      ],
      "metadata": {
        "colab": {
          "base_uri": "https://localhost:8080/",
          "height": 559
        },
        "id": "9A9Ym9-bxhUa",
        "outputId": "ec362413-3bc8-4330-83f5-81b67c019126"
      },
      "execution_count": 172,
      "outputs": [
        {
          "output_type": "display_data",
          "data": {
            "text/plain": [
              "<Figure size 1000x500 with 2 Axes>"
            ],
            "image/png": "[encoded data removed]"
          },
          "metadata": {}
        },
        {
          "output_type": "stream",
          "name": "stdout",
          "text": [
            "4/4 [==============================] - 0s 28ms/step - loss: 1.1527 - accuracy: 0.8077\n",
            "Test Loss: 1.1527\n",
            "Test Accuracy: 0.8077\n"
          ]
        }
      ]
    },
    {
      "cell_type": "code",
      "source": [
        "import pandas as pd\n",
        "from sklearn.metrics import accuracy_score, precision_recall_fscore_support\n",
        "\n",
        "# Assuming you have calculated the evaluation metrics\n",
        "\n",
        "# Calculating precision, recall, F1-score for each class\n",
        "precision, recall, f1_score, _ = precision_recall_fscore_support(y_test_encoded, y_pred, average=None, labels=range(num_classes))\n",
        "class_metrics = {\n",
        "    'Class': label_encoder.classes_,\n",
        "    'Precision': precision,\n",
        "    'Recall': recall,\n",
        "    'F1-Score': f1_score\n",
        "}\n",
        "\n",
        "# Creating a DataFrame for class-wise metrics\n",
        "class_metrics_df = pd.DataFrame(class_metrics)\n",
        "\n",
        "# Calculating overall metrics\n",
        "overall_precision, overall_recall, overall_f1_score, _ = precision_recall_fscore_support(y_test_encoded, y_pred, average='weighted')\n",
        "overall_metrics = {\n",
        "    'Overall Precision': [overall_precision],\n",
        "    'Overall Recall': [overall_recall],\n",
        "    'Overall F1-Score': [overall_f1_score]\n",
        "}\n",
        "\n",
        "# Creating a DataFrame for overall metrics\n",
        "overall_metrics_df = pd.DataFrame(overall_metrics)\n",
        "\n",
        "# Displaying the tables\n",
        "print(\"Class-wise Metrics:\")\n",
        "print(class_metrics_df)\n",
        "\n",
        "print(\"\\nOverall Metrics:\")\n",
        "print(overall_metrics_df)\n",
        "\n",
        "\n"
      ],
      "metadata": {
        "colab": {
          "base_uri": "https://localhost:8080/"
        },
        "id": "sAy_I5M_56r0",
        "outputId": "8867faae-36b1-4075-a948-965961729639"
      },
      "execution_count": 173,
      "outputs": [
        {
          "output_type": "stream",
          "name": "stdout",
          "text": [
            "Class-wise Metrics:\n",
            "            Class  Precision    Recall  F1-Score\n",
            "0  CURRENT SMOKER   0.533333  0.727273  0.615385\n",
            "1      NON-SMOKER   0.928571  0.812500  0.866667\n",
            "2     PAST SMOKER   0.538462  0.636364  0.583333\n",
            "3          SMOKER   0.000000  0.000000  0.000000\n",
            "4         UNKNOWN   0.967742  0.952381  0.960000\n",
            "\n",
            "Overall Metrics:\n",
            "   Overall Precision  Overall Recall  Overall F1-Score\n",
            "0           0.842448        0.846154          0.841659\n"
          ]
        },
        {
          "output_type": "stream",
          "name": "stderr",
          "text": [
            "/usr/local/lib/python3.10/dist-packages/sklearn/metrics/_classification.py:1344: UndefinedMetricWarning: Precision and F-score are ill-defined and being set to 0.0 in labels with no predicted samples. Use `zero_division` parameter to control this behavior.\n",
            "  _warn_prf(average, modifier, msg_start, len(result))\n",
            "/usr/local/lib/python3.10/dist-packages/sklearn/metrics/_classification.py:1344: UndefinedMetricWarning: Precision and F-score are ill-defined and being set to 0.0 in labels with no predicted samples. Use `zero_division` parameter to control this behavior.\n",
            "  _warn_prf(average, modifier, msg_start, len(result))\n"
          ]
        }
      ]
    }
  ]
}